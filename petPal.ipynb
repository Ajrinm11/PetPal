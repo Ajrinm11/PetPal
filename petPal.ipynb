{
  "cells": [
    {
      "cell_type": "code",
      "execution_count": null,
      "metadata": {
        "colab": {
          "base_uri": "https://localhost:8080/"
        },
        "id": "VYIr-K_Ccsa4",
        "outputId": "b3d3e122-f121-4de4-c032-516d53017104"
      },
      "outputs": [
        {
          "output_type": "stream",
          "name": "stdout",
          "text": [
            "Enter pet name: Pisu\n",
            "\n",
            "--- Pet Care Menu ---\n",
            "1. Feed\n",
            "2. Play\n",
            "3. Show Status\n",
            "4. Exit\n",
            "Please choose an option (1-4): 2\n",
            "Pisu played with! :D Happiness is now 6 and Hunger is now 3\n",
            "\n",
            "--- Pet Care Menu ---\n",
            "1. Feed\n",
            "2. Play\n",
            "3. Show Status\n",
            "4. Exit\n"
          ]
        }
      ],
      "source": [
        "class Pet:\n",
        "  def __init__(self, name, hunger=5, happiness=5):\n",
        "    self.petName=name\n",
        "    self.hunger=hunger\n",
        "    self.mood=happiness\n",
        "    self.mood_message = \"\"\n",
        "\n",
        "  def feed(self):\n",
        "    if self.hunger > 0:\n",
        "      self.hunger = self.hunger - 1\n",
        "      print(\"The new hunger level is \" , self.hunger)\n",
        "    else:\n",
        "      print(f\"{self.petName} is already full!\")\n",
        "\n",
        "  def play(self):\n",
        "    if self.mood < 10:\n",
        "      self.mood += 1\n",
        "    self.hunger += 1\n",
        "    print(f\"{self.petName} played with! :D Happiness is now {self.mood} and Hunger is now {self.hunger}\")\n",
        "\n",
        "  def getMood(self):\n",
        "        if self.mood > 7:\n",
        "            self.mood_message = f\"Mood: {self.petName} is happy and healthy!! 😄\"\n",
        "        elif self.mood > 4:\n",
        "            self.mood_message = f\"Mood: {self.petName} is somewhat hungry, so feed meeeeee! 🥺\"\n",
        "        else:\n",
        "            self.mood_message = f\"Mood: {self.petName} is feeling down. ☹️\"\n",
        "\n",
        "  def status(self):\n",
        "        print(f\"Pet Name: {self.petName}\")\n",
        "        print(f\"Hunger Level: {self.hunger}\")\n",
        "        print(f\"Happiness Level: {self.mood}\")\n",
        "        self.getMood()\n",
        "        print(self.mood_message)\n",
        "\n",
        "def main():\n",
        "    user_pet_name = input(\"Enter pet name: \")\n",
        "    ariPet = Pet(user_pet_name, 2, 5)\n",
        "    while True:\n",
        "\n",
        "        print(\"\\n--- Pet Care Menu ---\")\n",
        "        print(\"1. Feed\")\n",
        "        print(\"2. Play\")\n",
        "        print(\"3. Show Status\")\n",
        "        print(\"4. Exit\")\n",
        "\n",
        "        choice = input(\"Please choose an option (1-4): \")\n",
        "        if choice == \"1\":\n",
        "            ariPet.feed()\n",
        "        elif choice == \"2\":\n",
        "            ariPet.play()\n",
        "        elif choice == \"3\":\n",
        "            ariPet.status()\n",
        "        elif choice == \"4\":\n",
        "            print(\"bYeeEEeeEEEe\")\n",
        "            break\n",
        "        else:\n",
        "            print(\"please choose a valid option!\")\n",
        "\n",
        "\n",
        "if __name__ == \"__main__\":\n",
        "    main()"
      ]
    },
    {
      "cell_type": "code",
      "execution_count": null,
      "metadata": {
        "colab": {
          "base_uri": "https://localhost:8080/"
        },
        "id": "ipYUoka9eiI6",
        "outputId": "4630f5fc-6b34-4c0b-de39-a4b6a12175f8"
      },
      "outputs": [
        {
          "output_type": "stream",
          "name": "stdout",
          "text": [
            "The new hunger level is  1\n",
            "kitty played with! :D Happiness is now 6 and Hunger is now 2\n",
            "Pet Name: kitty\n",
            "Hunger Level: 2\n",
            "Happiness Level: 6\n",
            "Mood: kitty is somewhat hungry, so feed meeeeee! 🥺\n"
          ]
        }
      ],
      "source": [
        "ariPet = Pet(\"kitty\", 2, 5)\n",
        "ariPet.feed()\n",
        "ariPet.play()\n",
        "ariPet.status()"
      ]
    },
    {
      "cell_type": "markdown",
      "source": [
        "this is NOT related to the project\n",
        "this is an example of dunder method :>\n",
        "__str__"
      ],
      "metadata": {
        "id": "Dh_WHRR6VBDi"
      }
    },
    {
      "cell_type": "code",
      "source": [
        "class MyClass:\n",
        "    def __init__(self, name, value):\n",
        "        self.name = name\n",
        "        self.value = value\n",
        "\n",
        "    def __str__(self):\n",
        "        return f\"MyObject(name='{self.name}', value={self.value})\"\n",
        "\n",
        "# Example usage\n",
        "obj = MyClass(\"Example\", 123)\n",
        "print(obj.name)  # Calls __str__ and prints: MyObject(name='Example', value=123)\n",
        "print(str(obj)) # Calls __str__ and prints: MyObject(name='Example', value=123)"
      ],
      "metadata": {
        "colab": {
          "base_uri": "https://localhost:8080/"
        },
        "id": "OuDxG1YcTHqo",
        "outputId": "79f92ddc-5673-49fb-a4dd-b3001e53a6c7"
      },
      "execution_count": null,
      "outputs": [
        {
          "output_type": "stream",
          "name": "stdout",
          "text": [
            "Example\n",
            "MyObject(name='Example', value=123)\n"
          ]
        }
      ]
    }
  ],
  "metadata": {
    "colab": {
      "provenance": []
    },
    "kernelspec": {
      "display_name": "Python 3",
      "name": "python3"
    },
    "language_info": {
      "name": "python"
    }
  },
  "nbformat": 4,
  "nbformat_minor": 0
}